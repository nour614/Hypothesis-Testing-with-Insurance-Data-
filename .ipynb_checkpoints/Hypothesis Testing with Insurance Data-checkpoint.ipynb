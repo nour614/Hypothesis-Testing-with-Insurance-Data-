{
 "cells": [
  {
   "cell_type": "code",
   "execution_count": 1,
   "id": "5b3ed539",
   "metadata": {},
   "outputs": [],
   "source": [
    "import pandas as pd\n",
    "import numpy as np\n",
    "import matplotlib as mpl\n",
    "import matplotlib.pyplot as plt\n",
    "import seaborn as sns\n",
    "from scipy import stats\n",
    "from statsmodels.stats.multicomp import pairwise_tukeyhsd"
   ]
  },
  {
   "cell_type": "code",
   "execution_count": 2,
   "id": "6586078a",
   "metadata": {
    "scrolled": true
   },
   "outputs": [
    {
     "data": {
      "text/html": [
       "<div>\n",
       "<style scoped>\n",
       "    .dataframe tbody tr th:only-of-type {\n",
       "        vertical-align: middle;\n",
       "    }\n",
       "\n",
       "    .dataframe tbody tr th {\n",
       "        vertical-align: top;\n",
       "    }\n",
       "\n",
       "    .dataframe thead th {\n",
       "        text-align: right;\n",
       "    }\n",
       "</style>\n",
       "<table border=\"1\" class=\"dataframe\">\n",
       "  <thead>\n",
       "    <tr style=\"text-align: right;\">\n",
       "      <th></th>\n",
       "      <th>age</th>\n",
       "      <th>sex</th>\n",
       "      <th>bmi</th>\n",
       "      <th>children</th>\n",
       "      <th>smoker</th>\n",
       "      <th>region</th>\n",
       "      <th>charges</th>\n",
       "    </tr>\n",
       "  </thead>\n",
       "  <tbody>\n",
       "    <tr>\n",
       "      <th>0</th>\n",
       "      <td>19</td>\n",
       "      <td>female</td>\n",
       "      <td>27.900</td>\n",
       "      <td>0</td>\n",
       "      <td>yes</td>\n",
       "      <td>southwest</td>\n",
       "      <td>16884.92400</td>\n",
       "    </tr>\n",
       "    <tr>\n",
       "      <th>1</th>\n",
       "      <td>18</td>\n",
       "      <td>male</td>\n",
       "      <td>33.770</td>\n",
       "      <td>1</td>\n",
       "      <td>no</td>\n",
       "      <td>southeast</td>\n",
       "      <td>1725.55230</td>\n",
       "    </tr>\n",
       "    <tr>\n",
       "      <th>2</th>\n",
       "      <td>28</td>\n",
       "      <td>male</td>\n",
       "      <td>33.000</td>\n",
       "      <td>3</td>\n",
       "      <td>no</td>\n",
       "      <td>southeast</td>\n",
       "      <td>4449.46200</td>\n",
       "    </tr>\n",
       "    <tr>\n",
       "      <th>3</th>\n",
       "      <td>33</td>\n",
       "      <td>male</td>\n",
       "      <td>22.705</td>\n",
       "      <td>0</td>\n",
       "      <td>no</td>\n",
       "      <td>northwest</td>\n",
       "      <td>21984.47061</td>\n",
       "    </tr>\n",
       "    <tr>\n",
       "      <th>4</th>\n",
       "      <td>32</td>\n",
       "      <td>male</td>\n",
       "      <td>28.880</td>\n",
       "      <td>0</td>\n",
       "      <td>no</td>\n",
       "      <td>northwest</td>\n",
       "      <td>3866.85520</td>\n",
       "    </tr>\n",
       "  </tbody>\n",
       "</table>\n",
       "</div>"
      ],
      "text/plain": [
       "   age     sex     bmi  children smoker     region      charges\n",
       "0   19  female  27.900         0    yes  southwest  16884.92400\n",
       "1   18    male  33.770         1     no  southeast   1725.55230\n",
       "2   28    male  33.000         3     no  southeast   4449.46200\n",
       "3   33    male  22.705         0     no  northwest  21984.47061\n",
       "4   32    male  28.880         0     no  northwest   3866.85520"
      ]
     },
     "execution_count": 2,
     "metadata": {},
     "output_type": "execute_result"
    }
   ],
   "source": [
    "df = pd.read_csv('insurance - insurance.csv')\n",
    "df.head()\n"
   ]
  },
  {
   "cell_type": "markdown",
   "id": "6000e9d7",
   "metadata": {},
   "source": [
    "We have been asked to use our hypothesis testing skills to answer the following questions:\n",
    "\n",
    "- Q1. Do smokers have higher insurance charges than non-smokers?\n",
    "- Q2. Are men more likely to smoke than women?\n",
    "- Q3. Do different regions have different charges, on average?"
   ]
  },
  {
   "cell_type": "markdown",
   "id": "9d28b064",
   "metadata": {},
   "source": [
    "For each question, make sure to:\n",
    "\n",
    "1. State your Null Hypothesis and Alternative Hypothesis\n",
    "2. Select the correct test according to the data type and number of samples\n",
    "3. Test the assumptions of your selected test.\n",
    "4. Execute the selected test, or the alternative test (if you do not meet the assumptions)\n",
    "5. Interpret your p-value and reject or fail to reject your null hypothesis \n",
    "6. Show a supporting visualization that helps display the result"
   ]
  },
  {
   "cell_type": "markdown",
   "id": "fd5b035c",
   "metadata": {},
   "source": [
    "# Q1. Do smokers have higher insurance charges than non-smokers?"
   ]
  },
  {
   "cell_type": "markdown",
   "id": "b4f9e093",
   "metadata": {},
   "source": [
    "Null Hypothesis: There is no significant difference in insurance rates between smokers and non-smokers.\n",
    "Alternate Hypothesis: There is a significant difference in insurance rates between smokers and non-smokers.\n",
    "\n"
   ]
  },
  {
   "cell_type": "markdown",
   "id": "76cd372a",
   "metadata": {},
   "source": [
    "## Smokers"
   ]
  },
  {
   "cell_type": "code",
   "execution_count": 3,
   "id": "07573915",
   "metadata": {},
   "outputs": [
    {
     "data": {
      "image/png": "[encoded data removed]",
      "text/plain": [
       "<Figure size 640x480 with 1 Axes>"
      ]
     },
     "metadata": {},
     "output_type": "display_data"
    }
   ],
   "source": [
    "ax = sns.countplot(data = df, x = 'smoker')\n",
    "ax.set_title('Number of Smokers');"
   ]
  },
  {
   "cell_type": "markdown",
   "id": "8eb5cb7c",
   "metadata": {},
   "source": [
    "## 2 Sample T-Test Assumptions"
   ]
  },
  {
   "cell_type": "markdown",
   "id": "63258057",
   "metadata": {},
   "source": [
    "1. No Significant Outliers\n",
    "2. Normality\n",
    "3. Equal Variance"
   ]
  },
  {
   "cell_type": "code",
   "execution_count": 4,
   "id": "11065ced",
   "metadata": {},
   "outputs": [
    {
     "name": "stdout",
     "output_type": "stream",
     "text": [
      "There are 274 smokers and 1064 non-smokers.\n"
     ]
    },
    {
     "data": {
      "text/plain": [
       "0     16884.9240\n",
       "11    27808.7251\n",
       "14    39611.7577\n",
       "19    36837.4670\n",
       "23    37701.8768\n",
       "Name: charges, dtype: float64"
      ]
     },
     "metadata": {},
     "output_type": "display_data"
    },
    {
     "data": {
      "text/plain": [
       "1     1725.55230\n",
       "2     4449.46200\n",
       "3    21984.47061\n",
       "4     3866.85520\n",
       "5     3756.62160\n",
       "Name: charges, dtype: float64"
      ]
     },
     "metadata": {},
     "output_type": "display_data"
    }
   ],
   "source": [
    "# split into groups\n",
    "smokers= df.loc[df['smoker']==\"yes\", 'charges']\n",
    "not_smokers = df.loc[df['smoker']==\"no\", 'charges']\n",
    "\n",
    "print(f'There are {len(smokers)} smokers and {len(not_smokers)} non-smokers.')\n",
    "display(smokers.head(), not_smokers.head())"
   ]
  },
  {
   "cell_type": "code",
   "execution_count": 5,
   "id": "689d257c",
   "metadata": {},
   "outputs": [
    {
     "name": "stdout",
     "output_type": "stream",
     "text": [
      "There are 0 outliers for the smokers.\n",
      "There are 24 outliers for the non-smokers.\n"
     ]
    }
   ],
   "source": [
    "# smokers outliers\n",
    "yes_zscores = stats.zscore(smokers)\n",
    "yes_outliers = abs(yes_zscores) > 3\n",
    "\n",
    "# non-smokers outliers\n",
    "no_zscores = stats.zscore(not_smokers)\n",
    "no_outliers = abs(no_zscores) > 3\n",
    "\n",
    "print(f'There are {np.sum(yes_outliers)} outliers for the smokers.')\n",
    "print(f'There are {np.sum(no_outliers)} outliers for the non-smokers.')"
   ]
  },
  {
   "cell_type": "code",
   "execution_count": 6,
   "id": "4a220972",
   "metadata": {},
   "outputs": [
    {
     "data": {
      "text/plain": [
       "964     26467.09737\n",
       "379     27000.98473\n",
       "1142    27117.99378\n",
       "138     27322.73386\n",
       "539     27346.04207\n",
       "140     27375.90478\n",
       "516     27724.28875\n",
       "770     27941.28758\n",
       "443     28287.89766\n",
       "987     28340.18885\n",
       "959     28468.91901\n",
       "806     28476.73499\n",
       "9       28923.13692\n",
       "696     29186.48236\n",
       "1258    30063.58055\n",
       "62      30166.61817\n",
       "115     30259.99556\n",
       "387     30284.64294\n",
       "573     31620.00106\n",
       "936     32108.66282\n",
       "599     33471.97189\n",
       "242     35160.13457\n",
       "1012    36580.28216\n",
       "1206    36910.60803\n",
       "Name: charges, dtype: float64"
      ]
     },
     "execution_count": 6,
     "metadata": {},
     "output_type": "execute_result"
    }
   ],
   "source": [
    "# show outliers for non-smokers\n",
    "outliers = not_smokers[(np.abs(stats.zscore(not_smokers)) > 3)]\n",
    "outliers.sort_values()"
   ]
  },
  {
   "cell_type": "code",
   "execution_count": 7,
   "id": "fe73fb8b",
   "metadata": {},
   "outputs": [
    {
     "name": "stdout",
     "output_type": "stream",
     "text": [
      "Before the outliers are removed, there are 1064 non-smokers\n",
      "After the outliers are removed, there are 1064 non-smokers\n"
     ]
    }
   ],
   "source": [
    "print(f'Before the outliers are removed, there are {len(not_smokers)} non-smokers')\n",
    "\n",
    "no_group = not_smokers[(np.abs(stats.zscore(not_smokers)) <= 3)]\n",
    "\n",
    "print(f'After the outliers are removed, there are {len(not_smokers)} non-smokers')"
   ]
  },
  {
   "cell_type": "markdown",
   "id": "4b2bbd96",
   "metadata": {},
   "source": [
    "## Normality Testing"
   ]
  },
  {
   "cell_type": "code",
   "execution_count": 8,
   "id": "8d4a4f87",
   "metadata": {},
   "outputs": [
    {
     "name": "stdout",
     "output_type": "stream",
     "text": [
      "Smokers: NormaltestResult(statistic=61.03941356533816, pvalue=5.564930630036463e-14)\n",
      "Non-Smokers:NormaltestResult(statistic=316.4528082392722, pvalue=1.9193129759002216e-69)\n"
     ]
    }
   ],
   "source": [
    "# smokers\n",
    "smokers_results = stats.normaltest(smokers)\n",
    "\n",
    "# nonsmokers\n",
    "nonsmokers_results= stats.normaltest(not_smokers)\n",
    "\n",
    "print(f'Smokers: {smokers_results}')\n",
    "print(f'Non-Smokers:{nonsmokers_results}')"
   ]
  },
  {
   "cell_type": "markdown",
   "id": "f86e8f46",
   "metadata": {},
   "source": [
    "The p-values from the normality tests are less than 0.05 for both the smokers and non-smokers. This indicates that our data is not normally distributed.\n"
   ]
  },
  {
   "cell_type": "markdown",
   "id": "d18707cf",
   "metadata": {},
   "source": [
    "## Equal Variance Testing"
   ]
  },
  {
   "cell_type": "code",
   "execution_count": 9,
   "id": "4422ac74",
   "metadata": {},
   "outputs": [
    {
     "data": {
      "text/plain": [
       "LeveneResult(statistic=332.6135162726081, pvalue=1.5593284881803726e-66)"
      ]
     },
     "execution_count": 9,
     "metadata": {},
     "output_type": "execute_result"
    }
   ],
   "source": [
    "v_result = stats.levene(smokers, not_smokers)\n",
    "v_result"
   ]
  },
  {
   "cell_type": "markdown",
   "id": "f26c4acd",
   "metadata": {},
   "source": [
    "The p-value from the equal variance test is less than our threshold of 0.05. Therefore, we can conclude that our data does not have equal variance"
   ]
  },
  {
   "cell_type": "markdown",
   "id": "eb007bdf",
   "metadata": {},
   "source": [
    "## Ttesting "
   ]
  },
  {
   "cell_type": "code",
   "execution_count": 10,
   "id": "a46f349b",
   "metadata": {},
   "outputs": [
    {
     "data": {
      "text/plain": [
       "Ttest_indResult(statistic=32.751887766341824, pvalue=5.88946444671698e-103)"
      ]
     },
     "execution_count": 10,
     "metadata": {},
     "output_type": "execute_result"
    }
   ],
   "source": [
    "ttest_result = stats.ttest_ind(smokers, not_smokers, equal_var = False)\n",
    "ttest_result"
   ]
  },
  {
   "cell_type": "markdown",
   "id": "dd84dc28",
   "metadata": {},
   "source": [
    "The p-value for our T-Test is below 0.05, which means we can reject the null hypothesis. This indicates a significant difference between the charges of smokers and non-smokers.\n",
    "\n",
    "Therefore, we conclude that smokers and non-smokers have unequal insurance charges, supporting the alternative hypothesis."
   ]
  },
  {
   "cell_type": "markdown",
   "id": "2b75bd3d",
   "metadata": {},
   "source": [
    "# Q2. Are men more likely to smoke than women?"
   ]
  },
  {
   "cell_type": "markdown",
   "id": "2ab4db44",
   "metadata": {},
   "source": [
    "There are two categorical variables (ordinal or nominal)\n",
    "The outcomes are independent."
   ]
  },
  {
   "cell_type": "markdown",
   "id": "aa936cba",
   "metadata": {},
   "source": [
    "Null Hypothesis: Men ARE NOT more likely to smoke than women.\n",
    "\n",
    "Alternate Hypothesis: Men ARE more likely to smoke than women."
   ]
  },
  {
   "cell_type": "code",
   "execution_count": 12,
   "id": "3142f2f9",
   "metadata": {},
   "outputs": [
    {
     "data": {
      "image/png": "[encoded data removed]",
      "text/plain": [
       "<Figure size 640x480 with 1 Axes>"
      ]
     },
     "metadata": {},
     "output_type": "display_data"
    }
   ],
   "source": [
    "ax = sns.countplot(data = df, x = 'sex')\n",
    "ax.set_title(\"Totals by Gender\");"
   ]
  },
  {
   "cell_type": "markdown",
   "id": "8b9c095b",
   "metadata": {},
   "source": [
    "## Chi-Squared Test Assumptions\n",
    "There are two categorical variables (ordinal or nominal)\n",
    "The outcomes are independent."
   ]
  },
  {
   "cell_type": "code",
   "execution_count": 13,
   "id": "66ad04bc",
   "metadata": {},
   "outputs": [
    {
     "data": {
      "text/html": [
       "<div>\n",
       "<style scoped>\n",
       "    .dataframe tbody tr th:only-of-type {\n",
       "        vertical-align: middle;\n",
       "    }\n",
       "\n",
       "    .dataframe tbody tr th {\n",
       "        vertical-align: top;\n",
       "    }\n",
       "\n",
       "    .dataframe thead th {\n",
       "        text-align: right;\n",
       "    }\n",
       "</style>\n",
       "<table border=\"1\" class=\"dataframe\">\n",
       "  <thead>\n",
       "    <tr style=\"text-align: right;\">\n",
       "      <th>smoker</th>\n",
       "      <th>no</th>\n",
       "      <th>yes</th>\n",
       "    </tr>\n",
       "    <tr>\n",
       "      <th>sex</th>\n",
       "      <th></th>\n",
       "      <th></th>\n",
       "    </tr>\n",
       "  </thead>\n",
       "  <tbody>\n",
       "    <tr>\n",
       "      <th>female</th>\n",
       "      <td>547</td>\n",
       "      <td>115</td>\n",
       "    </tr>\n",
       "    <tr>\n",
       "      <th>male</th>\n",
       "      <td>517</td>\n",
       "      <td>159</td>\n",
       "    </tr>\n",
       "  </tbody>\n",
       "</table>\n",
       "</div>"
      ],
      "text/plain": [
       "smoker   no  yes\n",
       "sex             \n",
       "female  547  115\n",
       "male    517  159"
      ]
     },
     "execution_count": 13,
     "metadata": {},
     "output_type": "execute_result"
    }
   ],
   "source": [
    "# Contingency Table with pd.cross-tab\n",
    "table = pd.crosstab(df['sex'], df['smoker'])\n",
    "table"
   ]
  },
  {
   "cell_type": "code",
   "execution_count": 14,
   "id": "a6e78f8e",
   "metadata": {},
   "outputs": [],
   "source": [
    "# Run the Test and Save the Output\n",
    "result = stats.chi2_contingency(table)\n",
    "chi2, p, deg_free, expected_vals = result"
   ]
  },
  {
   "cell_type": "code",
   "execution_count": 15,
   "id": "b61b45eb",
   "metadata": {},
   "outputs": [
    {
     "name": "stdout",
     "output_type": "stream",
     "text": [
      "p-value: 0.006548143503580696\n"
     ]
    },
    {
     "data": {
      "text/plain": [
       "True"
      ]
     },
     "execution_count": 15,
     "metadata": {},
     "output_type": "execute_result"
    }
   ],
   "source": [
    "# Print p-value and verify if its less than alpha\n",
    "print(f'p-value: {p}')\n",
    "p < .05\n"
   ]
  },
  {
   "cell_type": "markdown",
   "id": "40b4ddb9",
   "metadata": {},
   "source": [
    "The p-value from the Chi-Squared Test is less than 0.05, indicating that we can reject the null hypothesis. This suggests that men are more likely to smoke than women.\n",
    "\n",
    "Based on this result, we conclude that there is an unequal likelihood of smoking between men and women, supporting the alternative hypothesis that men are indeed more likely to smoke than women."
   ]
  },
  {
   "cell_type": "code",
   "execution_count": 16,
   "id": "389fa7c9",
   "metadata": {},
   "outputs": [
    {
     "data": {
      "image/png": "[encoded data removed]",
      "text/plain": [
       "<Figure size 640x480 with 1 Axes>"
      ]
     },
     "metadata": {},
     "output_type": "display_data"
    }
   ],
   "source": [
    "ax = sns.countplot(data = df, x = 'sex', hue = 'smoker')\n",
    "ax.set_title(\"Smokers by Gender\");"
   ]
  },
  {
   "cell_type": "markdown",
   "id": "38dcf69f",
   "metadata": {},
   "source": [
    "# Q3. Do different regions have different charges, on average?"
   ]
  },
  {
   "cell_type": "markdown",
   "id": "de8dea22",
   "metadata": {},
   "source": [
    "Null Hypothesis (H0): There is no significant difference between the insurance rates of different regions.\n",
    "\n",
    "Alternate Hypothesis (H1): There is a significant difference between the insurance rates of different regions."
   ]
  },
  {
   "cell_type": "markdown",
   "id": "b491f123",
   "metadata": {},
   "source": [
    "## ANOVA Test Assumptions\n",
    "1. No significant outliers\n",
    "2. Equal variance\n",
    "3. Normality"
   ]
  },
  {
   "cell_type": "code",
   "execution_count": 17,
   "id": "66f06396",
   "metadata": {},
   "outputs": [
    {
     "data": {
      "text/plain": [
       "southeast    364\n",
       "southwest    325\n",
       "northwest    325\n",
       "northeast    324\n",
       "Name: region, dtype: int64"
      ]
     },
     "execution_count": 17,
     "metadata": {},
     "output_type": "execute_result"
    }
   ],
   "source": [
    "df['region'].value_counts()"
   ]
  },
  {
   "cell_type": "code",
   "execution_count": 18,
   "id": "9ed81dae",
   "metadata": {},
   "outputs": [
    {
     "data": {
      "image/png": "[encoded data removed]",
      "text/plain": [
       "<Figure size 640x480 with 1 Axes>"
      ]
     },
     "metadata": {},
     "output_type": "display_data"
    }
   ],
   "source": [
    "ax = sns.barplot(data = df, x = 'region', y = 'charges')\n",
    "ax.set_title(\"Charges by Region\");"
   ]
  },
  {
   "cell_type": "code",
   "execution_count": 19,
   "id": "ccd8ce00",
   "metadata": {},
   "outputs": [
    {
     "name": "stdout",
     "output_type": "stream",
     "text": [
      "dict_keys(['southwest', 'southeast', 'northwest', 'northeast'])\n"
     ]
    },
    {
     "data": {
      "text/plain": [
       "{'southwest': 0       16884.92400\n",
       " 12       1826.84300\n",
       " 15       1837.23700\n",
       " 18      10602.38500\n",
       " 19      36837.46700\n",
       "            ...     \n",
       " 1316     1731.67700\n",
       " 1329    10325.20600\n",
       " 1331    10795.93733\n",
       " 1332    11411.68500\n",
       " 1336     2007.94500\n",
       " Name: charges, Length: 325, dtype: float64,\n",
       " 'southeast': 1        1725.5523\n",
       " 2        4449.4620\n",
       " 5        3756.6216\n",
       " 6        8240.5896\n",
       " 11      27808.7251\n",
       "            ...    \n",
       " 1322    12981.3457\n",
       " 1323    43896.3763\n",
       " 1327     9377.9047\n",
       " 1330    12629.1656\n",
       " 1335     1629.8335\n",
       " Name: charges, Length: 364, dtype: float64,\n",
       " 'northwest': 3       21984.47061\n",
       " 4        3866.85520\n",
       " 7        7281.50560\n",
       " 9       28923.13692\n",
       " 24       6203.90175\n",
       "            ...     \n",
       " 1319     7201.70085\n",
       " 1320     5425.02335\n",
       " 1324     4239.89265\n",
       " 1333    10600.54830\n",
       " 1337    29141.36030\n",
       " Name: charges, Length: 325, dtype: float64,\n",
       " 'northeast': 8        6406.41070\n",
       " 10       2721.32080\n",
       " 16      10797.33620\n",
       " 17       2395.17155\n",
       " 20      13228.84695\n",
       "            ...     \n",
       " 1321    28101.33305\n",
       " 1325    13143.33665\n",
       " 1326     7050.02130\n",
       " 1328    22395.74424\n",
       " 1334     2205.98080\n",
       " Name: charges, Length: 324, dtype: float64}"
      ]
     },
     "execution_count": 19,
     "metadata": {},
     "output_type": "execute_result"
    }
   ],
   "source": [
    "## Create groups dictionary. \n",
    "groups = {}\n",
    "## Loop through all unique categories\n",
    "for i in df['region'].unique():\n",
    "    ## Get series for group and rename\n",
    "    data = df.loc[df['region']==i,'charges'].copy()\n",
    "    \n",
    "    # save into the dictionary\n",
    "    groups[i] = data\n",
    "print(groups.keys())\n",
    "groups"
   ]
  },
  {
   "cell_type": "markdown",
   "id": "09f3c758",
   "metadata": {},
   "source": [
    "## Remove Outliers"
   ]
  },
  {
   "cell_type": "code",
   "execution_count": 20,
   "id": "daefd61c",
   "metadata": {},
   "outputs": [
    {
     "name": "stdout",
     "output_type": "stream",
     "text": [
      "Outliers for southwest region: 8\n",
      "Before the outliers are removed, there are 325 samples in the southwest region\n",
      "After the 8 outliers are removed, there are 317 samples in the southwest region\n",
      "\n",
      "Outliers for southeast region: 2\n",
      "Before the outliers are removed, there are 364 samples in the southeast region\n",
      "After the 2 outliers are removed, there are 362 samples in the southeast region\n",
      "\n",
      "Outliers for northwest region: 7\n",
      "Before the outliers are removed, there are 325 samples in the northwest region\n",
      "After the 7 outliers are removed, there are 318 samples in the northwest region\n",
      "\n",
      "Outliers for northeast region: 4\n",
      "Before the outliers are removed, there are 324 samples in the northeast region\n",
      "After the 4 outliers are removed, there are 320 samples in the northeast region\n",
      "\n"
     ]
    }
   ],
   "source": [
    "# iterate through groups\n",
    "for region, charges in groups.items():\n",
    "    zscores = stats.zscore(charges)\n",
    "    outliers = abs(zscores) > 3\n",
    "    print(f\"Outliers for {region} region: {np.sum(outliers)}\")\n",
    "\n",
    "    print(f'Before the outliers are removed, there are {len(groups[region])} samples in the {region} region')\n",
    "    groups[region] = charges[(np.abs(stats.zscore(charges)) <= 3)]\n",
    "    print(f'After the {np.sum(outliers)} outliers are removed, there are {len(groups[region])} samples in the {region} region')\n",
    "    print()"
   ]
  },
  {
   "cell_type": "markdown",
   "id": "2786aaae",
   "metadata": {},
   "source": [
    "## Normality Testing"
   ]
  },
  {
   "cell_type": "code",
   "execution_count": 21,
   "id": "249a8f5c",
   "metadata": {},
   "outputs": [
    {
     "data": {
      "text/html": [
       "<div>\n",
       "<style scoped>\n",
       "    .dataframe tbody tr th:only-of-type {\n",
       "        vertical-align: middle;\n",
       "    }\n",
       "\n",
       "    .dataframe tbody tr th {\n",
       "        vertical-align: top;\n",
       "    }\n",
       "\n",
       "    .dataframe thead th {\n",
       "        text-align: right;\n",
       "    }\n",
       "</style>\n",
       "<table border=\"1\" class=\"dataframe\">\n",
       "  <thead>\n",
       "    <tr style=\"text-align: right;\">\n",
       "      <th></th>\n",
       "      <th>n</th>\n",
       "      <th>p</th>\n",
       "      <th>test stat</th>\n",
       "    </tr>\n",
       "  </thead>\n",
       "  <tbody>\n",
       "    <tr>\n",
       "      <th>southwest</th>\n",
       "      <td>317.0</td>\n",
       "      <td>7.728611e-22</td>\n",
       "      <td>97.223886</td>\n",
       "    </tr>\n",
       "    <tr>\n",
       "      <th>southeast</th>\n",
       "      <td>362.0</td>\n",
       "      <td>1.936990e-13</td>\n",
       "      <td>58.544942</td>\n",
       "    </tr>\n",
       "    <tr>\n",
       "      <th>northwest</th>\n",
       "      <td>318.0</td>\n",
       "      <td>2.940543e-19</td>\n",
       "      <td>85.341045</td>\n",
       "    </tr>\n",
       "    <tr>\n",
       "      <th>northeast</th>\n",
       "      <td>320.0</td>\n",
       "      <td>3.557877e-17</td>\n",
       "      <td>75.749565</td>\n",
       "    </tr>\n",
       "  </tbody>\n",
       "</table>\n",
       "</div>"
      ],
      "text/plain": [
       "               n             p  test stat\n",
       "southwest  317.0  7.728611e-22  97.223886\n",
       "southeast  362.0  1.936990e-13  58.544942\n",
       "northwest  318.0  2.940543e-19  85.341045\n",
       "northeast  320.0  3.557877e-17  75.749565"
      ]
     },
     "execution_count": 21,
     "metadata": {},
     "output_type": "execute_result"
    }
   ],
   "source": [
    "## Running normal test on each group and confirming there are >20 in each group\n",
    "norm_results = {}\n",
    "for i, data in groups.items():\n",
    "    stat, p = stats.normaltest(data)\n",
    "    ## save the p val, test statistic, and the size of the group\n",
    "    norm_results[i] = {'n': len(data),\n",
    "                             'p':p,\n",
    "                             'test stat':stat,}\n",
    "## convert to a dataframe\n",
    "norm_results_df = pd.DataFrame(norm_results).T\n",
    "norm_results_df"
   ]
  },
  {
   "cell_type": "code",
   "execution_count": 22,
   "id": "ac914a6b",
   "metadata": {},
   "outputs": [
    {
     "data": {
      "text/html": [
       "<div>\n",
       "<style scoped>\n",
       "    .dataframe tbody tr th:only-of-type {\n",
       "        vertical-align: middle;\n",
       "    }\n",
       "\n",
       "    .dataframe tbody tr th {\n",
       "        vertical-align: top;\n",
       "    }\n",
       "\n",
       "    .dataframe thead th {\n",
       "        text-align: right;\n",
       "    }\n",
       "</style>\n",
       "<table border=\"1\" class=\"dataframe\">\n",
       "  <thead>\n",
       "    <tr style=\"text-align: right;\">\n",
       "      <th></th>\n",
       "      <th>n</th>\n",
       "      <th>p</th>\n",
       "      <th>test stat</th>\n",
       "      <th>significance</th>\n",
       "    </tr>\n",
       "  </thead>\n",
       "  <tbody>\n",
       "    <tr>\n",
       "      <th>southwest</th>\n",
       "      <td>317.0</td>\n",
       "      <td>7.728611e-22</td>\n",
       "      <td>97.223886</td>\n",
       "      <td>True</td>\n",
       "    </tr>\n",
       "    <tr>\n",
       "      <th>southeast</th>\n",
       "      <td>362.0</td>\n",
       "      <td>1.936990e-13</td>\n",
       "      <td>58.544942</td>\n",
       "      <td>True</td>\n",
       "    </tr>\n",
       "    <tr>\n",
       "      <th>northwest</th>\n",
       "      <td>318.0</td>\n",
       "      <td>2.940543e-19</td>\n",
       "      <td>85.341045</td>\n",
       "      <td>True</td>\n",
       "    </tr>\n",
       "    <tr>\n",
       "      <th>northeast</th>\n",
       "      <td>320.0</td>\n",
       "      <td>3.557877e-17</td>\n",
       "      <td>75.749565</td>\n",
       "      <td>True</td>\n",
       "    </tr>\n",
       "  </tbody>\n",
       "</table>\n",
       "</div>"
      ],
      "text/plain": [
       "               n             p  test stat  significance\n",
       "southwest  317.0  7.728611e-22  97.223886          True\n",
       "southeast  362.0  1.936990e-13  58.544942          True\n",
       "northwest  318.0  2.940543e-19  85.341045          True\n",
       "northeast  320.0  3.557877e-17  75.749565          True"
      ]
     },
     "execution_count": 22,
     "metadata": {},
     "output_type": "execute_result"
    }
   ],
   "source": [
    "### checking char with pandas \n",
    "norm_results_df['significance'] = norm_results_df['p'] < .05 \n",
    "norm_results_df"
   ]
  },
  {
   "cell_type": "markdown",
   "id": "7a5279e5",
   "metadata": {},
   "source": [
    "The normality tests indicate that all the regions have p-values below 0.05, indicating that our data is not normally distributed.\n",
    "\n",
    "Since the charges are not normally distributed and we have more than 15 samples in each region, we have a sufficiently large dataset to proceed with the ANOVA Test."
   ]
  },
  {
   "cell_type": "markdown",
   "id": "2f7fa658",
   "metadata": {},
   "source": [
    "## Equal Variance Testing"
   ]
  },
  {
   "cell_type": "code",
   "execution_count": 23,
   "id": "a7ce491a",
   "metadata": {},
   "outputs": [
    {
     "data": {
      "text/plain": [
       "LeveneResult(statistic=9.518349004554441, pvalue=3.2035503711783993e-06)"
      ]
     },
     "execution_count": 23,
     "metadata": {},
     "output_type": "execute_result"
    }
   ],
   "source": [
    "# EV Test with the * operator \n",
    "stats.levene(*groups.values())"
   ]
  },
  {
   "cell_type": "code",
   "execution_count": 24,
   "id": "462ff0ee",
   "metadata": {},
   "outputs": [
    {
     "data": {
      "text/plain": [
       "LeveneResult(statistic=9.518349004554441, pvalue=3.2035503711783993e-06)"
      ]
     },
     "execution_count": 24,
     "metadata": {},
     "output_type": "execute_result"
    }
   ],
   "source": [
    "# EV Test entering each group manually\n",
    "stats.levene(groups['southwest'], groups['southeast'],\n",
    "            groups['northwest'],\n",
    "            groups['northeast'])"
   ]
  },
  {
   "cell_type": "code",
   "execution_count": 25,
   "id": "0969f681",
   "metadata": {},
   "outputs": [
    {
     "data": {
      "text/plain": [
       "southwest    317.0\n",
       "southeast    362.0\n",
       "northwest    318.0\n",
       "northeast    320.0\n",
       "Name: n, dtype: float64"
      ]
     },
     "execution_count": 25,
     "metadata": {},
     "output_type": "execute_result"
    }
   ],
   "source": [
    "norm_results_df['n']"
   ]
  },
  {
   "cell_type": "markdown",
   "id": "63bcbb0f",
   "metadata": {},
   "source": [
    "## Kruskal-Wallis Test"
   ]
  },
  {
   "cell_type": "code",
   "execution_count": 26,
   "id": "484a9e52",
   "metadata": {},
   "outputs": [
    {
     "data": {
      "text/plain": [
       "KruskalResult(statistic=6.914045702545643, pvalue=0.07468847911322242)"
      ]
     },
     "execution_count": 26,
     "metadata": {},
     "output_type": "execute_result"
    }
   ],
   "source": [
    "result = stats.kruskal(*groups.values())\n",
    "result"
   ]
  },
  {
   "cell_type": "markdown",
   "id": "eeafe5e7",
   "metadata": {},
   "source": [
    "The p-value from the Kruskal-Wallis Test is greater than 0.05, indicating that we can support the null hypothesis. This suggests that there is no significant difference between the insurance rates of different regions.\n",
    "\n",
    "Therefore, we conclude that the different regions have equal or similar insurance rates, rejecting the alternative hypothesis that there is a significant difference between them."
   ]
  },
  {
   "cell_type": "code",
   "execution_count": 27,
   "id": "2cc7c3cf",
   "metadata": {},
   "outputs": [
    {
     "data": {
      "image/png": "[encoded data removed]",
      "text/plain": [
       "<Figure size 640x480 with 1 Axes>"
      ]
     },
     "metadata": {},
     "output_type": "display_data"
    }
   ],
   "source": [
    "ax = sns.barplot(data = df, x = 'region', y = 'charges', hue = 'smoker')\n",
    "ax.set_title(\"Smokers by Region\");"
   ]
  }
 ],
 "metadata": {
  "kernelspec": {
   "display_name": "Python (dojo-env)",
   "language": "python",
   "name": "dojo-env"
  },
  "language_info": {
   "codemirror_mode": {
    "name": "ipython",
    "version": 3
   },
   "file_extension": ".py",
   "mimetype": "text/x-python",
   "name": "python",
   "nbconvert_exporter": "python",
   "pygments_lexer": "ipython3",
   "version": "3.9.15"
  },
  "toc": {
   "base_numbering": 1,
   "nav_menu": {},
   "number_sections": true,
   "sideBar": true,
   "skip_h1_title": false,
   "title_cell": "Table of Contents",
   "title_sidebar": "Contents",
   "toc_cell": false,
   "toc_position": {},
   "toc_section_display": true,
   "toc_window_display": false
  }
 },
 "nbformat": 4,
 "nbformat_minor": 5
}
